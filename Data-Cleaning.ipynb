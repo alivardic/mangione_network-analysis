{
 "cells": [
  {
   "cell_type": "markdown",
   "id": "7166a052",
   "metadata": {},
   "source": [
    "# Data Cleaning and Munging"
   ]
  },
  {
   "cell_type": "code",
   "execution_count": null,
   "id": "b5fc1027",
   "metadata": {},
   "outputs": [
    {
     "name": "stdout",
     "output_type": "stream",
     "text": [
      "The number of all tweets: 519670\n",
      "The number of unique tweets: 519667\n",
      "The number of removed tweets: 0\n"
     ]
    },
    {
     "data": {
      "text/plain": [
       "True"
      ]
     },
     "execution_count": 4,
     "metadata": {},
     "output_type": "execute_result"
    }
   ],
   "source": [
    "import re\n",
    "import pandas as pd\n",
    "from pathlib import Path\n",
    "\n",
    "df = pd.read_csv(\"full_dataset.csv\")\n",
    "\n",
    "# Modified the process tweet function to filter out by words.\n",
    "removed_tweets = []\n",
    "\n",
    "def process_tweet(tweet):\n",
    "    \"\"\"Process the tweet text to remove the RT @username: prefix and filter out certain words.\"\"\"\n",
    "    if isinstance(tweet, str) and tweet.startswith('RT @'):\n",
    "        parts = tweet.split(' ', 2)\n",
    "        if len(parts) > 2:\n",
    "          tweet = parts[2].lstrip()\n",
    "\n",
    "    tweet = re.sub(r'@\\w+', '', tweet)\n",
    "    tweet = re.sub(r'http[s]?://\\S+', '', tweet)\n",
    "    tweet = tweet.strip()\n",
    "\n",
    "    if len(tweet) <= 2:\n",
    "        return None\n",
    "\n",
    "    return tweet\n",
    "\n",
    "# Sort the Dataset by Datetime, earliest first\n",
    "df['DateTime'] = df['Date'].astype(str).str.replace('.0', '', regex=False)\n",
    "df['DateTime'] = pd.to_datetime(df['DateTime'], errors='coerce')\n",
    "df = df.sort_values(by='DateTime', ascending=True)\n",
    "\n",
    "# Appy the Process Tweet Function to the\n",
    "df['original_text'] = df['Full Text'].apply(process_tweet)\n",
    "cleaned500k = df\n",
    "\n",
    "# Create seperate Retweet vs Original Tweet dataframes\n",
    "retweet_df = df[df['Engagement Type'] == 'RETWEET']\n",
    "retweet_df = retweet_df.drop_duplicates(subset='original_text', keep='first') # drop duplicated retweets based on retweets\n",
    "nonretweet_df = df[df['Engagement Type'] != 'RETWEET']\n",
    "\n",
    "# Creates DF1, which retains one instance of each tweet and relevant retweets\n",
    "df1 = pd.concat([retweet_df, nonretweet_df])\n",
    "df1 = df1[~((df1.duplicated(subset='original_text', keep=False)) & (df1['Engagement Type'] == 'RETWEET'))] # drop duplicated retweets based on original tweets\n",
    "df1 = df1.sort_index()\n",
    "df1 = df1.reset_index(drop=True)\n",
    "df1 = df1.drop_duplicates(subset=\"original_text\") # Removes any remaining duplicates\n",
    "\n",
    "# Remove all instances where text has been reduced to None\n",
    "df1 = df1.dropna(subset=['original_text'])  # Remove rows where original_text is None\n",
    "\n",
    "print(f\"The number of all tweets: {len(df)}\")\n",
    "print(f\"The number of unique tweets: {len(df1)}\")\n",
    "print(f\"The number of removed tweets: {len(removed_tweets)}\")\n",
    "\n",
    "#Checks to ensure all original_text are strings\n",
    "df1['original_text'].apply(lambda x: isinstance(x, str)).all()"
   ]
  },
  {
   "cell_type": "markdown",
   "id": "c4f96c36",
   "metadata": {},
   "source": [
    "# 70k Dataset Export"
   ]
  },
  {
   "cell_type": "code",
   "execution_count": 1,
   "id": "860a31d1",
   "metadata": {},
   "outputs": [
    {
     "ename": "NameError",
     "evalue": "name 'cleaned500k' is not defined",
     "output_type": "error",
     "traceback": [
      "\u001b[1;31m---------------------------------------------------------------------------\u001b[0m",
      "\u001b[1;31mNameError\u001b[0m                                 Traceback (most recent call last)",
      "Cell \u001b[1;32mIn[1], line 2\u001b[0m\n\u001b[0;32m      1\u001b[0m \u001b[38;5;66;03m# Export to CSV\u001b[39;00m\n\u001b[1;32m----> 2\u001b[0m \u001b[43mcleaned500k\u001b[49m\u001b[38;5;241m.\u001b[39mto_csv(\u001b[38;5;124m\"\u001b[39m\u001b[38;5;124mcleaned_x_data-500k.csv\u001b[39m\u001b[38;5;124m\"\u001b[39m)\n\u001b[0;32m      3\u001b[0m df1\u001b[38;5;241m.\u001b[39mto_csv(\u001b[38;5;124m\"\u001b[39m\u001b[38;5;124munique70k.csv\u001b[39m\u001b[38;5;124m\"\u001b[39m, index\u001b[38;5;241m=\u001b[39m\u001b[38;5;28;01mFalse\u001b[39;00m)\n",
      "\u001b[1;31mNameError\u001b[0m: name 'cleaned500k' is not defined"
     ]
    }
   ],
   "source": [
    "# Export to CSV\n",
    "cleaned500k.to_csv(\"cleaned_x_data-500k.csv\")\n",
    "df1.to_csv(\"unique70k.csv\", index=False)\n"
   ]
  }
 ],
 "metadata": {
  "kernelspec": {
   "display_name": "Python 3",
   "language": "python",
   "name": "python3"
  },
  "language_info": {
   "codemirror_mode": {
    "name": "ipython",
    "version": 3
   },
   "file_extension": ".py",
   "mimetype": "text/x-python",
   "name": "python",
   "nbconvert_exporter": "python",
   "pygments_lexer": "ipython3",
   "version": "3.8.10"
  }
 },
 "nbformat": 4,
 "nbformat_minor": 5
}
